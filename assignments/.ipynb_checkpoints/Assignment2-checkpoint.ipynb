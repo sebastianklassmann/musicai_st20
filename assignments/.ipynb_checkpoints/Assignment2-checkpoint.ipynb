{
 "cells": [
  {
   "cell_type": "markdown",
   "metadata": {},
   "source": [
    "# Music and AI (Summer Term 2020)\n",
    "### Tuesday Course (10:00-11:30), Sebastian Klaßmann (M.A.) \n",
    "- - - - - \n",
    "## Assignment 2: Python (II)\n",
    "\n",
    "* to be handed out on June 2nd.\n",
    "* **deadline for submitting solutions via eMail: June 16th, 17:15.** \n",
    "* I will be going over ways to attach your solution to an eMail coming Tuesday. For now, just get started with this assignment.\n",
    "* As I stated before, an assignment will be graded as \"passed\" if at least half of the subchapters of this notebook are solved correctly and commented extensively."
   ]
  },
  {
   "cell_type": "markdown",
   "metadata": {},
   "source": [
    "## Be *computationally* literate!  \n",
    "As I have mentioned in previous sessions, this course also aims at fostering your ability to convey ideas, concepts and Python code in a manner that is legible to any interested researcher. For our purposes this means that:  \n",
    "  \n",
    "$\\rightarrow$ Please comment your code (all of it) extensively, using either the inline comment functionality of code cells (#) or dedicated markdown cells!  \n",
    "\n",
    "$\\rightarrow$ The quality of your comments and consequently, the legibility of your code is part of how your code will be evaluated.  \n",
    "$\\rightarrow$ In this course, you can comment your code in either English or German, even though internationally, English will most often be used.  \n",
    "$\\rightarrow$ I will inform you within a week of the deadline whether or not you have passed the assignment. Don't worry, I will give constructive feedback and offer another chance to hand in a reworked version of the same assignment.   \n",
    "$\\rightarrow$ Assignments will roughly follow the structure of the material used in the respective session. You can therefore use the headlines to quickly find any information you are looking for in the supplementary material.  \n",
    "$\\rightarrow$ Within the notebooks, the exercises that you need to fulfill will be clearly marked by an \"$\\rightarrow$\".  \n",
    "$\\rightarrow$ Exercises that purely ask for information and do not include program code or pseudo-code obviously don't need commenting.  \n",
    "$\\rightarrow$ In the beginning sessions, the assignments will consist of a rather high number of rather simple exercises that often only require a single line of code. Therefore, please don't be scared by the length of these notebooks."
   ]
  },
  {
   "cell_type": "markdown",
   "metadata": {},
   "source": [
    "-----"
   ]
  },
  {
   "cell_type": "markdown",
   "metadata": {},
   "source": [
    "**This assignment consists of two larger parts: List Comprehension (A) and Classes / Object Oriented Programming (B).** The first one will be programming tasks that you haven't seen before, while the second part is your opportunity to present the results of your group work efforts on representing chords as python classes. If you haven't participated in our corresponding group work, you can find detailed instructions on what you should be doing below."
   ]
  },
  {
   "cell_type": "markdown",
   "metadata": {},
   "source": [
    "---"
   ]
  },
  {
   "cell_type": "markdown",
   "metadata": {},
   "source": [
    "## Part A: List / Dictionary Comprehension"
   ]
  },
  {
   "cell_type": "markdown",
   "metadata": {},
   "source": [
    "$\\rightarrow$ Using list comprehension, define a list containing 25 random integers between 0 and 100.  \n",
    "* Using another list comprehension, define a second list that adds 30 to all integers in the first list and stores the new values.\n",
    "* Using a list comprehension and if statements, please generate a list that contains only those items from the second list that are either dividible by 3 or 5 and at the same time are no larger than 99.\n",
    "* Print the last list."
   ]
  },
  {
   "cell_type": "markdown",
   "metadata": {},
   "source": [
    "$\\rightarrow$ Using list comprehension, define an algorithm that takes as its input a nested list of lists (of unspecified depth of recursive nesting) and generates a *flattened* list containing all the elements of the original list without nesting and in the order that they appeared in. Solve this without the use of external python libraries.  \n",
    "* If that seems too tough, start from a solution using for loops."
   ]
  },
  {
   "cell_type": "markdown",
   "metadata": {},
   "source": [
    "$\\rightarrow$ Using list comprehension and recursion, please define a function that takes any list as its input and reverses it, while leaving the original list unchanged."
   ]
  },
  {
   "cell_type": "markdown",
   "metadata": {},
   "source": [
    "$\\rightarrow$ Design an algorithm that takes at it's input any string and from that string, generates a list containing the individual words from the input string. You can for example try out an article from an online newspaper.  \n",
    "* Using list comprehension, please build a list that contains only words that start with \"e\" or \"E\".\n",
    "* Using dictionary comprehension, can you - from the original list - build a dictionary that counts the frequency of different words occuring?\n",
    "* Bonus question: Can you plot these frequencies as a bar plot using Matplotlib?"
   ]
  },
  {
   "cell_type": "markdown",
   "metadata": {},
   "source": [
    "$\\rightarrow$ Building on this algorithm, please implement a modification of it that stores the frequency of individual word pairs in a given dictionary.\n",
    "* Hint: Your notebook on list comprehension offers a solution for a very similar task, therefore you might want to have a look at it again."
   ]
  },
  {
   "cell_type": "markdown",
   "metadata": {},
   "source": [
    "$\\rightarrow$ **Thinking Challange** (advanced group only):  \n",
    "  \n",
    "In pure python, can you define a function that implements matrix multiplication and supports both multiplying vectors by vectors, matrix by vector and matrix by matrix operations? For this one, please consider vectors and matrices as being represented by nested lists. You can use either nested for loops or list comprehension to achieve this idea. Whichever you prefer, please comment the code extensively. Don't google for a solution, but try to think it through by yourself."
   ]
  },
  {
   "cell_type": "markdown",
   "metadata": {},
   "source": [
    "---"
   ]
  },
  {
   "cell_type": "markdown",
   "metadata": {},
   "source": [
    "## Part B: Classes and object-oriented programming"
   ]
  },
  {
   "cell_type": "markdown",
   "metadata": {},
   "source": [
    "$\\rightarrow$ Please present the results of your group work focussing on implementing a chord class in Python.\n",
    "* You will find the original instructions below.\n",
    "* Please make sure that you explicitly and thoroughly comment your work.\n",
    "* Present your ideas, don't just copy and paste your implemented code."
   ]
  },
  {
   "cell_type": "markdown",
   "metadata": {},
   "source": [
    "**Text foundation: Guttag (2016), ch. 8, specifically: pp. 109-128.**\n",
    "  \n",
    "In this group work phase, we will be focussing on designing and writing our very own classes and subclasses in Python.  \n",
    "  \n",
    "At their core, they will focus on representing a group of basic musical phenomena: triads.  \n",
    "  \n",
    "If you need to refresh your memory about how triads are constructed from pitches, please refer to the following [introductory notebook](https://sebastianklassmann.github.io/MusicTheory1.html#).\n",
    "  \n",
    "---  \n",
    "  \n",
    "* Brainstorm in your group:\n",
    "    * If you were to represent major, minor, augmented and diminished triads as instances of a overarching abstract data type \"triad\", which attributes and methods would you deem useful from a perspective of applied music theory?\n",
    "        * For this one, please focus on a (midi) pitch representation of the involved pitches, i.e. chordal structures within the context of equal temperament.\n",
    "    * Would you like to implement major, minor, aug and dim triads as subclasses of an overarching \"chord class\", or would you rather encode them as properties of a single chord class?\n",
    "    * Here is some food for thought:\n",
    "        * What does \"being a chord\" imply for a structure that you seek to model using a Python class? How does it differ from \"being a major triad (in first inversion)\"?\n",
    "        * Which properties (attributes, methods) should only apply to the subclasses and which of those could also be inherited by the overarching class?\n",
    "        * How could you represent the pitches / pitch classes that make up the chordal structure in pure Python?\n",
    "            * For this one, please think about or read up on MIDI note numbers / pitches.\n",
    "    * Formulate a check list for you to use during your own implementation.\n",
    "* Design an implementation of your own \"triad\" class along with any sub-classes that you deem neccessary.\n",
    "* How would you like instances of your class(es) to be initialized? Think of what your ```_init_(self)``` method should loook like to match all the information you have on your checklist.\n",
    "* Among your group members, select one person to present your class implementation during our Zoom meeting.\n",
    "* BONUS QUESTION 1 (advanced people): Can you extend your class to also capture missing triadic structures (sus4, sus2) and / or basic tetrachords (maj7, 7, min7, min7(b5), mmaj7, dim7)?\n",
    "* BONUS QUESTION 2 (advanced people): Given your class definition(s), can you design a function that checks a given collection of midi pitch values (e.g. represented as a list or tuple) for possible interpretations as one or more triadic structures encompassed by your class definition and instanciates the class using these interpretations?"
   ]
  },
  {
   "cell_type": "markdown",
   "metadata": {},
   "source": [
    "----"
   ]
  },
  {
   "cell_type": "markdown",
   "metadata": {},
   "source": [
    "## Good Luck!"
   ]
  }
 ],
 "metadata": {
  "kernelspec": {
   "display_name": "Python 3.7.7",
   "language": "python",
   "name": "py3pack"
  },
  "language_info": {
   "codemirror_mode": {
    "name": "ipython",
    "version": 3
   },
   "file_extension": ".py",
   "mimetype": "text/x-python",
   "name": "python",
   "nbconvert_exporter": "python",
   "pygments_lexer": "ipython3",
   "version": "3.7.7"
  }
 },
 "nbformat": 4,
 "nbformat_minor": 4
}
