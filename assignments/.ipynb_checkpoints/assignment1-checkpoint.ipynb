{
 "cells": [
  {
   "cell_type": "markdown",
   "metadata": {},
   "source": [
    "# Music and AI (Summer Term 2020)\n",
    "### Tuesday Course (10:00-11:30), Sebastian Klaßmann (M.A.) \n",
    "- - - - - \n",
    "## Assignment 1: Introduction to Python \n",
    "\n",
    "* to be handed out on May 2nd.\n",
    "* **deadline for submitting solutions via eMail: May 16th, 17:15.** \n",
    "* I will be going over ways to attach your solution to an eMail coming Tuesday. For now, just get started with this assignment.\n",
    "* If you are/were in our advanced group, please also solve the optional questions.\n",
    "* As I stated before, an assignment will be graded as \"passed\" if at least half of the subchapters of this notebook are solved correctly and commented extensively.\n",
    "* For the **advanced group** and only for this assignment, solving more than half of the bonus question will be an additional requirement."
   ]
  },
  {
   "cell_type": "markdown",
   "metadata": {},
   "source": [
    "## Be *computationally* literate!  \n",
    "As I have mentioned in previous sessions, this course also aims at fostering your ability to convey ideas, concepts and Python code in a manner that is legible to any interested researcher. For our purposes this means that:  \n",
    "  \n",
    "$\\rightarrow$ Please comment your code (all of it) extensively, using either the inline comment functionality of code cells (#) or dedicated markdown cells!  \n",
    "\n",
    "$\\rightarrow$ The quality of your comments and consequently, the legibility of your code is part of how your code will be evaluated.  \n",
    "$\\rightarrow$ In this course, you can comment your code in either English or German, even though internationally, English will most often be used.  \n",
    "$\\rightarrow$ I will inform you within a week of the deadline whether or not you have passed the assignment. Don't worry, I will give constructive feedback and offer another chance to hand in a reworked version of the same assignment.  \n",
    "$\\rightarrow$ As your assignment is delivered via a private GitHub repository, you can work directly in the assignment notebook. Feel free to add as many markdown and code cells as you find neccessary!  \n",
    "$\\rightarrow$ Assignments will roughly follow the structure of the material used in the respective session. You can therefore use the headlines to quickly find any information you are looking for in the supplementary material.  \n",
    "$\\rightarrow$ Within the notebooks, the exercises that you need to fulfill will be clearly marked by an \"$\\rightarrow$\".  \n",
    "$\\rightarrow$ Exercises that purely ask for information and do not include program code or pseudo-code obviously don't need commenting.  \n",
    "$\\rightarrow$ In the beginning sessions, the assignments will consist of a rather high number of rather simple exercises that often only require a single line of code. Therefore, please don't be scared by the length of these notebooks."
   ]
  },
  {
   "cell_type": "markdown",
   "metadata": {},
   "source": [
    "- - - -"
   ]
  },
  {
   "cell_type": "markdown",
   "metadata": {},
   "source": [
    "# 1. Print statements / basic data types"
   ]
  },
  {
   "cell_type": "markdown",
   "metadata": {},
   "source": [
    "$\\rightarrow$ In your own words, describe how print statements in Python work.\n"
   ]
  },
  {
   "cell_type": "markdown",
   "metadata": {},
   "source": [
    "$\\rightarrow$ Explain the difference between *strings*, *integers* and *floats*."
   ]
  },
  {
   "cell_type": "markdown",
   "metadata": {},
   "source": [
    "$\\rightarrow$ Remember our very first \"coffee machine\" / \"pasta\" / \"getting up\" exercise? Using print statements, please have the instructions displayed using Python code. Be aware that this is a *code-based* exercise. Therefore, you should be commenting it for practice purposes."
   ]
  },
  {
   "cell_type": "markdown",
   "metadata": {},
   "source": [
    "# 2. Basic Calculations"
   ]
  },
  {
   "cell_type": "markdown",
   "metadata": {},
   "source": [
    "In this set of exercises, you will be going through a number of basic calculations in Python.  \n",
    "  \n",
    "Use python code to calculate the results of the following numeric operations (for these, the comments can consist of the operation performed in the respective code cells):"
   ]
  },
  {
   "cell_type": "markdown",
   "metadata": {},
   "source": [
    "$\\rightarrow$ Add 192 to 252."
   ]
  },
  {
   "cell_type": "markdown",
   "metadata": {},
   "source": [
    "$\\rightarrow$ Subtract 95 from 12."
   ]
  },
  {
   "cell_type": "markdown",
   "metadata": {},
   "source": [
    "$\\rightarrow$ Multiply 513 by 2912."
   ]
  },
  {
   "cell_type": "markdown",
   "metadata": {},
   "source": [
    "$\\rightarrow$ Divide 288 by 24."
   ]
  },
  {
   "cell_type": "markdown",
   "metadata": {},
   "source": [
    "$\\rightarrow$ The last exercise will likely return a 'float' even though you have divided two integers. Can you re-calculate it and have the result be an integer as well?'"
   ]
  },
  {
   "cell_type": "markdown",
   "metadata": {},
   "source": [
    "$\\rightarrow$ Divide 145 by 12 using the *modulo* operator. What does the returned value tell us?"
   ]
  },
  {
   "cell_type": "markdown",
   "metadata": {},
   "source": [
    "$\\rightarrow$ **In a single code cell**, return the results of the following two operations: \"6 + 2\" **and** \"15132 - 532\""
   ]
  },
  {
   "cell_type": "markdown",
   "metadata": {},
   "source": [
    "$\\rightarrow$ What is the result of adding two strings together (e.g. \"abc\" + \"def) and what is the appropriate term for this operation?"
   ]
  },
  {
   "cell_type": "markdown",
   "metadata": {},
   "source": [
    "---"
   ]
  },
  {
   "cell_type": "markdown",
   "metadata": {},
   "source": [
    "**BONUS QUESTION**"
   ]
  },
  {
   "cell_type": "markdown",
   "metadata": {},
   "source": [
    "$\\rightarrow$ Please define a function that \n",
    "* takes two inputs and assumes them to be integers\n",
    "* checks whether the first input parameter is the square root of the second parameter\n",
    "* returns True if that is the case  \n",
    "$\\rightarrow$ For this one and all following function definitions, please adhere to Guttag's (2016) instructions regarding making assumptions explicit for any defined function."
   ]
  },
  {
   "cell_type": "markdown",
   "metadata": {},
   "source": [
    "# 3. Variables"
   ]
  },
  {
   "cell_type": "markdown",
   "metadata": {},
   "source": [
    "$\\rightarrow$ Using variables representing all integers included in the following operation, as well as the result, print the result of \"3 times 19\"."
   ]
  },
  {
   "cell_type": "markdown",
   "metadata": {},
   "source": [
    "$\\rightarrow$ Define a variable that is tied to an integer which is equal to your age."
   ]
  },
  {
   "cell_type": "markdown",
   "metadata": {},
   "source": [
    "$\\rightarrow$ Using this variable, define a variable that is tied to a number which is equal to \"(twice your age)+4\""
   ]
  },
  {
   "cell_type": "markdown",
   "metadata": {},
   "source": [
    "# 4. Basic Loops"
   ]
  },
  {
   "cell_type": "markdown",
   "metadata": {},
   "source": [
    "$\\rightarrow$ Define a starting number of your choice that is larger than or equal to 10."
   ]
  },
  {
   "cell_type": "markdown",
   "metadata": {},
   "source": [
    "$\\rightarrow$ Using a *for-loop*, design an algorithm that iterates 10 times. In every iteration, have the algorithm substract a number x from your starting value that is equal to 1."
   ]
  },
  {
   "cell_type": "markdown",
   "metadata": {},
   "source": [
    "$\\rightarrow$ This algorithm, as you can probably tell, uses a for-loop to count down from a number specified by you. Add print statements to it to display the starting number, the result of every iteration of the for-loop and the final value after breaking the loop."
   ]
  },
  {
   "cell_type": "markdown",
   "metadata": {},
   "source": [
    "---"
   ]
  },
  {
   "cell_type": "markdown",
   "metadata": {},
   "source": [
    "**BONUS QUESTIONS:**"
   ]
  },
  {
   "cell_type": "markdown",
   "metadata": {},
   "source": [
    "$\\rightarrow$ Define a variable as being tied to the integer 10."
   ]
  },
  {
   "cell_type": "markdown",
   "metadata": {},
   "source": [
    "$\\rightarrow$ Using a while loop, subtract 1 from the current value of your variable until that variable reaches 0. Print the starting, current and final value of your variable along the way."
   ]
  },
  {
   "cell_type": "markdown",
   "metadata": {},
   "source": [
    "# 5. Lists"
   ]
  },
  {
   "cell_type": "markdown",
   "metadata": {},
   "source": [
    "$\\rightarrow$ Define a variable of your choice as an empty list."
   ]
  },
  {
   "cell_type": "markdown",
   "metadata": {},
   "source": [
    "$\\rightarrow$ Add (append) ten integers **or** floats of your choice to your empty list."
   ]
  },
  {
   "cell_type": "markdown",
   "metadata": {},
   "source": [
    "$\\rightarrow$ Using, a print statement, display the contents of your list."
   ]
  },
  {
   "cell_type": "markdown",
   "metadata": {},
   "source": [
    "$\\rightarrow$ Display the last item from your list."
   ]
  },
  {
   "cell_type": "markdown",
   "metadata": {},
   "source": [
    "$\\rightarrow$ Display the result of adding the first and second item of your list."
   ]
  },
  {
   "cell_type": "markdown",
   "metadata": {},
   "source": [
    "$\\rightarrow$ Using a for loop, add 2 to every item in your list.\n"
   ]
  },
  {
   "cell_type": "markdown",
   "metadata": {},
   "source": [
    "----"
   ]
  },
  {
   "cell_type": "markdown",
   "metadata": {},
   "source": [
    "**BONUS QUESTIONS**"
   ]
  },
  {
   "cell_type": "markdown",
   "metadata": {},
   "source": [
    "$\\rightarrow$ Please define a function that:\n",
    "* takes two inputs\n",
    "* assumes both inputs to be lists of equal length\n",
    "* multiplies each element from list 1 with the corresponding (same index) element of list 2 and appends the result to a new list\n",
    "* returns the sum of all elements of the resulting list  \n",
    "  \n",
    "$\\rightarrow$ Implement the same idea using lambda expression (cp. Guttag 2016, ch. 5)"
   ]
  },
  {
   "cell_type": "markdown",
   "metadata": {},
   "source": [
    "# 6. Functions"
   ]
  },
  {
   "cell_type": "markdown",
   "metadata": {},
   "source": [
    "$\\rightarrow$ Using everything that has been done so far, design and define a function that counts up in steps of \"1\" from a given starting number that takes as it's arguments a starting number and a number of iterations, printing the starting number, counting steps (iterations) and final number along the way."
   ]
  },
  {
   "cell_type": "markdown",
   "metadata": {},
   "source": [
    "*Hint: when asked to provide a function for a given algorithmic task, it is usually easier to first write out the algorithm in full and test it. You can always convert it to a function afterwards (watch the indentations!). When converting an algorithm to a function that accepts arguments passed to it, remember to replace values or variables within the code with the variable name of the argument passed to the function wherever neccessary.*  "
   ]
  },
  {
   "cell_type": "markdown",
   "metadata": {},
   "source": [
    "---"
   ]
  },
  {
   "cell_type": "markdown",
   "metadata": {},
   "source": [
    "**Bonus Question:**"
   ]
  },
  {
   "cell_type": "markdown",
   "metadata": {},
   "source": [
    "$\\rightarrow$ Have a look at Guttag (2016), ch. 4.3.1. Please solve the *Finger Exercise* on p. 54. "
   ]
  },
  {
   "cell_type": "markdown",
   "metadata": {},
   "source": [
    "# 7. Capturing User Input"
   ]
  },
  {
   "cell_type": "markdown",
   "metadata": {},
   "source": [
    "$\\rightarrow$ Define an function that asks the user for a starting number and a desired number of iterations.\n",
    "taken from the notebooks"
   ]
  },
  {
   "cell_type": "markdown",
   "metadata": {},
   "source": [
    "$\\rightarrow$ Call the function defined in 6 and pass the captured inputs to it."
   ]
  },
  {
   "cell_type": "markdown",
   "metadata": {},
   "source": [
    "*Hint: When capturing user input, please always make sure that the user input matches the data type expected by the algorithm using the input, e.g. integers!*"
   ]
  },
  {
   "cell_type": "markdown",
   "metadata": {},
   "source": [
    "e.g.:  \n",
    "```\n",
    "x = 2\n",
    "y = 1\n",
    "z = x + y\n",
    "print(z)  \n",
    "```\n",
    "  \n",
    "becomes:\n",
    "```\n",
    "def addone(startvalue):\n",
    "    x = startvalue\n",
    "    y = 1\n",
    "    z = x + y\n",
    "    return(z)\n",
    "```"
   ]
  },
  {
   "cell_type": "markdown",
   "metadata": {},
   "source": [
    "# 8. If Statements, Combining Everything"
   ]
  },
  {
   "cell_type": "markdown",
   "metadata": {},
   "source": [
    "This last exercise will combine all of the above sections."
   ]
  },
  {
   "cell_type": "markdown",
   "metadata": {},
   "source": [
    "$\\rightarrow$ Using if-elif-else statements, can you define a function that accepts a single argument which is to be an integer as its input and determines (returns) whether the passed argument is an even or odd number?"
   ]
  },
  {
   "cell_type": "markdown",
   "metadata": {},
   "source": [
    "Can you use a user input to capture an integer and afterwards call the function using that input\n",
    "basement method which uses an modulo operator and decision making to decide wether the number is even or not?"
   ]
  }
 ],
 "metadata": {
  "kernelspec": {
   "display_name": "Python 3.7.7",
   "language": "python",
   "name": "py3pack"
  },
  "language_info": {
   "codemirror_mode": {
    "name": "ipython",
    "version": 3
   },
   "file_extension": ".py",
   "mimetype": "text/x-python",
   "name": "python",
   "nbconvert_exporter": "python",
   "pygments_lexer": "ipython3",
   "version": "3.7.7"
  }
 },
 "nbformat": 4,
 "nbformat_minor": 4
}
